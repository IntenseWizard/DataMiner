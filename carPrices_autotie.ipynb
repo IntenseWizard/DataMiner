{
 "cells": [
  {
   "cell_type": "code",
   "execution_count": 3,
   "metadata": {},
   "outputs": [
    {
     "name": "stderr",
     "output_type": "stream",
     "text": [
      "C:\\Users\\mpalonie\\AppData\\Local\\Continuum\\anaconda3\\envs\\py36\\lib\\site-packages\\ipykernel_launcher.py:17: DeprecationWarning: AppURLopener2 style of invoking requests is deprecated. Use newer urlopen functions/methods\n"
     ]
    },
    {
     "name": "stdout",
     "output_type": "stream",
     "text": [
      "[('/vaihtoautot/Mercedes-Benz/E/CXyFhn8TbaipbZbwX27Brg%3d%3d', 'Mercedes-Benz E', '71900', '26000', '2017'), ('/vaihtoautot/Mercedes-Benz/C/-eiC0AjloxNdgOhGr1KTPA%3d%3d', 'Mercedes-Benz C', '45900', '35000', '2017'), ('/vaihtoautot/Mercedes-Benz/E/PNbUsShj9uA4WN-DS9acvg%3d%3d', 'Mercedes-Benz E', '38900', '46000', '2015'), ('/vaihtoautot/Mercedes-Benz/C/XvNjhvNCGGU%3d', 'Mercedes-Benz C', '29400', '85000', '2014'), ('/vaihtoautot/Mercedes-Benz/C/adC97rvgY7leZnFFPCSiVg%3d%3d', 'Mercedes-Benz C', '46500', '29000', '2017'), ('/vaihtoautot/Volvo/XC90/ZBNmV8XVbxI%3d', 'Volvo XC90', '72800', '80000', '2016'), ('/vaihtoautot/Volvo/XC90/FG6CfM1A6tA%3d', 'Volvo XC90', '68900', '94000', '2017'), ('/vaihtoautot/BMW/X5/Lwt8KB8k4CoW4iU_-jG8Lg%3d%3d', 'BMW X5', '78800', '60000', '2015'), ('/vaihtoautot/Skoda/Superb/i_DHEdW8iOM%3d', 'Skoda Superb', '28880', '75000', '2014'), ('/vaihtoautot/Volvo/XC70/EzXCVyB1CfM%3d', 'Volvo XC70', '22890', '174000', '2009'), ('/vaihtoautot/Mercedes-Benz/E/eDlNPEu3dHOApBrDkoK4cg%3d%3d', 'Mercedes-Benz E', '53900', '12000', '2018'), ('/vaihtoautot/Mercedes-Benz/A/e_OzG2g0jvg%3d', 'Mercedes-Benz A', '27380', '83000', '2014'), ('/vaihtoautot/MINI/Cooper/c4-al9pOS0A%3d', 'MINI Cooper', '19430', '57300', '2016'), ('/vaihtoautot/Mercedes-Benz/E/RC2DUeqOH4c%3d', 'Mercedes-Benz E', '17990', '318000', '2010'), ('/vaihtoautot/Mitsubishi/Outlander%20Phev/alksR-6Ffak%3d', 'Mitsubishi Outlander Phev', '30900', '37000', '2015'), ('/vaihtoautot/Mercedes-Benz/GLC/N6KR7auEBqE%3d', 'Mercedes-Benz GLC', '54800', '64000', '2015'), ('/vaihtoautot/Toyota/Rav4/9cq7VEIm2MU%3d', 'Toyota Rav4', '38790', '40000', '2016'), ('/vaihtoautot/Audi/A6/GzRSAN5P7do%3d', 'Audi A6', '37999', '52000', '2015'), ('/vaihtoautot/Volvo/V60/G3OzJlyQL1o%3d', 'Volvo V60', '35900', '66000', '2014'), ('/vaihtoautot/Volvo/V40/VRHH6mAtXc4%3d', 'Volvo V40', '20990', '66000', '2014'), ('/vaihtoautot/Volvo/S60/zz3AW0n_BYw%3d', 'Volvo S60', '25900', '34310', '2015'), ('/vaihtoautot/Audi/A7%20Sportback/jxjXReNPDqU%3d', 'Audi A7 Sportback', '35900', '98000', '2011'), ('/vaihtoautot/Mercedes-Benz/E/lG-nzH1Pl1s%3d', 'Mercedes-Benz E', '27500', '282000', '2013'), ('/vaihtoautot/Mitsubishi/Outlander%20Phev/Vc4oTYcKcoM%3d', 'Mitsubishi Outlander Phev', '48500', '0', '2018'), ('/vaihtoautot/Mitsubishi/Outlander%20Phev/AEm0S3yGBaA%3d', 'Mitsubishi Outlander Phev', '47500', '0', '2018')]\n"
     ]
    }
   ],
   "source": [
    "from bs4 import BeautifulSoup\n",
    "import re, time\n",
    "\n",
    "import urllib.request\n",
    "\n",
    "class AppURLopener2(urllib.request.FancyURLopener):\n",
    "    version = \"Mozilla/5.0\"\n",
    "\n",
    "import csv\n",
    "def writeToCsv(file,data):\n",
    "    with open(file,'a') as f:\n",
    "        wr = csv.writer(f, dialect='excel')\n",
    "        wr.writerows(data)\n",
    "    \n",
    "def getDataFromAutotieLink(link):\n",
    "    \n",
    "    opener = AppURLopener2()\n",
    "    response = opener.open(link).read()\n",
    "    soup = BeautifulSoup(response, \"lxml\")\n",
    "    dataHtml = soup.findAll(\"div\", {\"data-robot-layout\": \"hakutuloslista\"})\n",
    "    \n",
    "\n",
    "    #print(data)\n",
    "    #rawList=soup.find_all(\"div\", {\"class\": \"linkki-autoilmoitukseen\"})\n",
    "    \n",
    "    linkdataRaw = [a.find_all(\"li\", {\"class\": \"auto-ilmoitus\"}) for a in dataHtml]\n",
    "    #print(linkdataRaw)\n",
    "    linkdata = [a.find_all(\"a\") for a in linkdataRaw[0]]\n",
    "    link = [a[0]['href'] for a in linkdata]\n",
    "    \n",
    "    links=[]\n",
    "    names=[]\n",
    "    for l in link:\n",
    "        links.append(l)\n",
    "        names.append(re.sub(\"%20\", \" \", \" \".join(l.split(\"/\")[2:4])))\n",
    "        \n",
    "    pricedataRaw = [a.find_all(\"span\", {\"data-robot\": \"autokortti-hinta\"}) for a in dataHtml]\n",
    "    price=[]\n",
    "    for p in pricedataRaw[0]:\n",
    "        price.append(re.sub(\"[^0-9.]\", \"\", p.string))\n",
    "        \n",
    "    yeardataRaw = [a.find_all(\"div\", {\"data-robot\": \"autokortti-vuosimalli\"}) for a in dataHtml]\n",
    "    years=[]\n",
    "    for y in yeardataRaw[0]:\n",
    "        years.append(y.string)\n",
    "        \n",
    "    labeldataRaw = [a.find_all(\"div\", {\"class\": \"tietoLabel\"}) for a in dataHtml]\n",
    "    faktadataRaw = [a.find_all(\"div\", {\"class\": \"tietoFakta\"}) for a in dataHtml]\n",
    "    #print(kmsdataRaw)\n",
    "    kms=[]\n",
    "    for l,f in zip(labeldataRaw[0], faktadataRaw[0]):\n",
    "        if l.string == \"Mittarilukema\":\n",
    "            #kms.append(f.string.replace(r\"\\xa\",'').replace(\" km\",''))\n",
    "            #print(f.string)\n",
    "            #print(re.sub(f.string, \"\", \"\"))\n",
    "            kms.append(re.sub(\"[^0-9.]\", \"\", f.string))\n",
    "    #print(kms)\n",
    "    \n",
    "    complete_data=[]\n",
    "    for i in range(0,len(links)):\n",
    "        complete_data.append((links[i],\n",
    "        names[i],\n",
    "        price[i],\n",
    "        kms[i],\n",
    "        years[i]))\n",
    "    return(complete_data)\n",
    "\n",
    "#print(getDataFromAutotieLink(\"https://www.autotie.fi/vaihtoautot/hakutulos/hae?Lajittelu=0&Sivu=1\"))\n"
   ]
  },
  {
   "cell_type": "code",
   "execution_count": null,
   "metadata": {},
   "outputs": [],
   "source": [
    "\n",
    "import datetime\n",
    "\n",
    "time=str(datetime.datetime.now().date())\n",
    "filename=time + \" autotie.csv\"\n",
    "f=open(filename,'a')\n",
    "f.close()\n",
    "\n",
    "raw_link='https://www.autotie.fi/vaihtoautot/hakutulos/hae?Lajittelu=0&Sivu='\n",
    "last_page=1600\n",
    "\n",
    "failed=0\n",
    "for i in range(1,last_page):\n",
    "    #try:\n",
    "    print(\"Progress \"+str(i/last_page))\n",
    "    link=raw_link+str(i)\n",
    "    data = getDataFromAutotieLink(link)\n",
    "    writeToCsv(filename, data)\n",
    "    #bar.update(i+1)\n",
    "    #except:\n",
    "    #print(\"Round failed \",i)\n",
    "    #failed=failed+1\n",
    "print(\"Finished\")\n",
    "print(\"Failed \", failed)\n",
    "print(\"Succeeded \", last_page-failed)"
   ]
  }
 ],
 "metadata": {
  "kernelspec": {
   "display_name": "Python 3",
   "language": "python",
   "name": "python3"
  },
  "language_info": {
   "codemirror_mode": {
    "name": "ipython",
    "version": 3
   },
   "file_extension": ".py",
   "mimetype": "text/x-python",
   "name": "python",
   "nbconvert_exporter": "python",
   "pygments_lexer": "ipython3",
   "version": "3.6.5"
  }
 },
 "nbformat": 4,
 "nbformat_minor": 2
}

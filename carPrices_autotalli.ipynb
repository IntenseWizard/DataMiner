{
 "cells": [
  {
   "cell_type": "code",
   "execution_count": 1,
   "metadata": {},
   "outputs": [
    {
     "name": "stderr",
     "output_type": "stream",
     "text": [
      "C:\\Users\\mpalonie\\AppData\\Local\\Continuum\\anaconda3\\envs\\py36\\lib\\site-packages\\ipykernel_launcher.py:15: DeprecationWarning: AppURLopener style of invoking requests is deprecated. Use newer urlopen functions/methods\n",
      "  from ipykernel import kernelapp as app\n"
     ]
    }
   ],
   "source": [
    "from bs4 import BeautifulSoup\n",
    "import re, time\n",
    "\n",
    "import urllib.request\n",
    "\n",
    "\n",
    "'''\n",
    "<a class=\"carsListItemNameLink\" href=\"https://www.autotalli.com/vaihtoauto/35897954/Renault/Laguna/2000?pos=17&amp;page=5&amp;searchType=usedCar\">Renault Laguna BREAK CONFORT 1.6</a>\n",
    "'''\n",
    "\n",
    "class AppURLopener(urllib.request.FancyURLopener):\n",
    "    version = \"Mozilla/5.0\"\n",
    "\n",
    "def getDataFromLink(link):\n",
    "    opener = AppURLopener()\n",
    "    response = opener.open(link).read()\n",
    "    soup = BeautifulSoup(response, \"lxml\")\n",
    "    dataHtml = soup.findAll(\"div\", {\"class\": \"listContent used\"})\n",
    "\n",
    "    linkdataRaw = [a.find_all(\"a\", {\"class\": \"carsListItemNameLink\"}) for a in dataHtml]\n",
    "    links = [a['href'] for a in linkdataRaw[0]]\n",
    "    \n",
    "    #print(dataHtml)\n",
    "    \n",
    "    namedataRaw = [a.find_all(\"a\", {\"class\": \"carsListItemNameLink\"}) for a in dataHtml]\n",
    "    names=[]\n",
    "    for n in namedataRaw[0]:\n",
    "        names.append(n.string)\n",
    "    \n",
    "    pricedataRaw = [a.find_all(\"div\", {\"class\": \"carsListItemCarDetailBottomContainer\"}) for a in dataHtml]\n",
    "    pricekmyeardata = [a.find_all(\"div\", {\"class\": \"carsListItemCarBottomContainerItem\"}) for a in pricedataRaw[0]]\n",
    "    prices=[]\n",
    "    years=[]\n",
    "    kms=[]\n",
    "    for p in pricekmyeardata:\n",
    "        prices.append(p[0].string)\n",
    "        years.append(p[2].string)\n",
    "        kms.append(p[1].string)\n",
    "\n",
    "    \n",
    "    complete_data=[]\n",
    "    for i in range(0,len(links)):\n",
    "        complete_data.append((links[i],\n",
    "        names[i],\n",
    "        prices[i],\n",
    "        kms[i],\n",
    "        years[i]))\n",
    "    return(complete_data)\n",
    "\n",
    "import csv\n",
    "def writeToCsv(file,data):\n",
    "    with open(file,'a') as f:\n",
    "        wr = csv.writer(f, dialect='excel')\n",
    "        wr.writerows(data)\n",
    "    \n",
    "link='https://www.autotalli.com/vaihtoautot/listaa/sivu/5'\n",
    "data=getDataFromLink(link)\n",
    "#writeToCsv(\"carPrices.csv\", data)\n",
    "#print(data)"
   ]
  },
  {
   "cell_type": "code",
   "execution_count": null,
   "metadata": {},
   "outputs": [
    {
     "name": "stdout",
     "output_type": "stream",
     "text": [
      "2018-10-19\n",
      "Progress 0.0004166666666666667\n"
     ]
    },
    {
     "name": "stderr",
     "output_type": "stream",
     "text": [
      "C:\\Users\\mpalonie\\AppData\\Local\\Continuum\\anaconda3\\envs\\py36\\lib\\site-packages\\ipykernel_launcher.py:15: DeprecationWarning: AppURLopener style of invoking requests is deprecated. Use newer urlopen functions/methods\n",
      "  from ipykernel import kernelapp as app\n"
     ]
    },
    {
     "name": "stdout",
     "output_type": "stream",
     "text": [
      "Progress 0.0008333333333333334\n",
      "Progress 0.00125\n",
      "Progress 0.0016666666666666668\n",
      "Progress 0.0020833333333333333\n",
      "Progress 0.0025\n",
      "Progress 0.002916666666666667\n",
      "Progress 0.0033333333333333335\n",
      "Progress 0.00375\n",
      "Progress 0.004166666666666667\n",
      "Progress 0.004583333333333333\n",
      "Progress 0.005\n",
      "Progress 0.005416666666666667\n",
      "Progress 0.005833333333333334\n",
      "Progress 0.00625\n",
      "Progress 0.006666666666666667\n",
      "Progress 0.007083333333333333\n",
      "Progress 0.0075\n",
      "Progress 0.007916666666666667\n",
      "Progress 0.008333333333333333\n",
      "Progress 0.00875\n"
     ]
    }
   ],
   "source": [
    "import datetime\n",
    "import psutil\n",
    "import os\n",
    "\n",
    "time=str(datetime.datetime.now().date())\n",
    "print(time)\n",
    "filename=time + \" autotalli.csv\"\n",
    "f=open(filename,'a')\n",
    "f.close()\n",
    "\n",
    "raw_link='https://www.autotalli.com/vaihtoautot/listaa/sivu/'\n",
    "last_page=2400\n",
    "\n",
    "failed=0\n",
    "for i in range(1,last_page):\n",
    "    try:\n",
    "        print(\"Progress \"+str(i/last_page))\n",
    "        link=raw_link+str(i)\n",
    "        data=getDataFromLink(link)\n",
    "        writeToCsv(filename, data)\n",
    "    except KeyboardInterrupt:\n",
    "        break\n",
    "    except:\n",
    "        print(\"Round failed \",i)\n",
    "        failed=failed+1\n",
    "print(\"Finished\")\n",
    "print(\"Failed \", failed)\n",
    "print(\"Succeeded \", last_page-failed)"
   ]
  },
  {
   "cell_type": "code",
   "execution_count": null,
   "metadata": {},
   "outputs": [],
   "source": []
  },
  {
   "cell_type": "code",
   "execution_count": null,
   "metadata": {},
   "outputs": [],
   "source": []
  },
  {
   "cell_type": "code",
   "execution_count": null,
   "metadata": {},
   "outputs": [],
   "source": []
  }
 ],
 "metadata": {
  "kernelspec": {
   "display_name": "Python 3",
   "language": "python",
   "name": "python3"
  },
  "language_info": {
   "codemirror_mode": {
    "name": "ipython",
    "version": 3
   },
   "file_extension": ".py",
   "mimetype": "text/x-python",
   "name": "python",
   "nbconvert_exporter": "python",
   "pygments_lexer": "ipython3",
   "version": "3.6.5"
  }
 },
 "nbformat": 4,
 "nbformat_minor": 2
}

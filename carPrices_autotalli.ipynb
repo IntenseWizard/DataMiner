{
 "cells": [
  {
   "cell_type": "code",
   "execution_count": 1,
   "metadata": {},
   "outputs": [
    {
     "name": "stderr",
     "output_type": "stream",
     "text": [
      "/usr/lib/python3/dist-packages/ipykernel_launcher.py:15: DeprecationWarning: AppURLopener style of invoking requests is deprecated. Use newer urlopen functions/methods\n",
      "  from ipykernel import kernelapp as app\n"
     ]
    },
    {
     "name": "stdout",
     "output_type": "stream",
     "text": [
      "[('https://www.autotalli.comhttps://www.autotalli.com/vaihtoauto/36644131/BMW/320/2010/Helsinki?pos=0&page=5&searchType=usedCar', 'BMW 320 320i Touring Business Sport', '13800', '124000', '2010'), ('https://www.autotalli.comhttps://www.autotalli.com/vaihtoauto/36623384/Ford/Transit/2014/H%C3%A4meenlinna?pos=1&page=5&searchType=usedCar', 'Ford Transit CUSTOM 270 (125HK)', '1', '58280', '2014'), ('https://www.autotalli.comhttps://www.autotalli.com/vaihtoauto/36623434/Ford/Transit/2014/H%C3%A4meenlinna?pos=2&page=5&searchType=usedCar', 'Ford Transit CUSTOM 290 SPORTVAN (155HK)', '1', '11090', '2014'), ('https://www.autotalli.comhttps://www.autotalli.com/vaihtoauto/36624651/Ford/Transit/2015/H%C3%A4meenlinna?pos=3&page=5&searchType=usedCar', 'Ford Transit CUSTOM 300 (125HK)', '1', '115080', '2015'), ('https://www.autotalli.comhttps://www.autotalli.com/vaihtoauto/36634186/Mercedes-Benz/Vito/2015/H%C3%A4meenlinna?pos=4&page=5&searchType=usedCar', 'Mercedes-Benz Vito 114 cdi', '1', '102000', '2015'), ('https://www.autotalli.comhttps://www.autotalli.com/vaihtoauto/36641306/Ford/Ranger/2013/H%C3%A4meenlinna?pos=5&page=5&searchType=usedCar', 'Ford Ranger 2,2tdci 4wd', '1', '10', '2013'), ('https://www.autotalli.comhttps://www.autotalli.com/vaihtoauto/36645042/Ford/Transit/2014/H%C3%A4meenlinna?pos=6&page=5&searchType=usedCar', 'Ford Transit Custom 270 125hk', '1', '10', '2014'), ('https://www.autotalli.comhttps://www.autotalli.com/vaihtoauto/36645411/Ford/Transit/2014/H%C3%A4meenlinna?pos=7&page=5&searchType=usedCar', 'Ford Transit custom 270 125hk', '1', '10', '2014'), ('https://www.autotalli.comhttps://www.autotalli.com/vaihtoauto/36644339/Fiat/Stilo/2004/Iisalmi?pos=8&page=5&searchType=usedCar', 'Fiat Stilo Vaihdetaan Pekoni-Barbeque Pizzaan (KOTI PIZZA) ...', '23', '245000', '2004'), ('https://www.autotalli.comhttps://www.autotalli.com/vaihtoauto/36268614/Toyota/Corolla/2003?pos=9&page=5&searchType=usedCar', 'Toyota Corolla 1.4 VVT-i Linea Terra Wagon', '100', '282586', '2003'), ('https://www.autotalli.comhttps://www.autotalli.com/vaihtoauto/36622675/Ford/Focus/2005/Tampere?pos=10&page=5&searchType=usedCar', 'Ford Focus 5D Focus STW 1.6-DNW/262', '100', '318000', '2005'), ('https://www.autotalli.comhttps://www.autotalli.com/vaihtoauto/35666335/Ford/Mondeo/1999/Lohja?pos=11&page=5&searchType=usedCar', 'Ford Mondeo 1.8TD CLX', '170', '236702', '1999'), ('https://www.autotalli.comhttps://www.autotalli.com/vaihtoauto/35863296/Mitsubishi/Colt/1991/Vantaa?pos=12&page=5&searchType=usedCar', 'Mitsubishi Colt 1,3 GL', '200', '250000', '1991'), ('https://www.autotalli.comhttps://www.autotalli.com/vaihtoauto/36322833/Citro%C3%ABn/C5/2001/Pori?pos=13&page=5&searchType=usedCar', 'Citroën C5 2.0i 16v SX Autom. 5 ov 100 kW', '200', '390000', '2001'), ('https://www.autotalli.comhttps://www.autotalli.com/vaihtoauto/36356948/Fiat/Scudo/2001/Kotka?pos=14&page=5&searchType=usedCar', 'Fiat Scudo Pakettiauto', '200', '380000', '2001'), ('https://www.autotalli.comhttps://www.autotalli.com/vaihtoauto/36608264/Skoda/Fabia/2019/Vantaa?pos=15&page=5&searchType=usedCar', 'Skoda Fabia Huoltolesingauto heti toimitukseen ! Combi 1,0 ...', '229', '50', '2019'), ('https://www.autotalli.comhttps://www.autotalli.com/vaihtoauto/36343451/Opel/Corsa/1998/Espoo?pos=16&page=5&searchType=usedCar', 'Opel Corsa 1.0 12V ECO', '250', '202000', '1998'), ('https://www.autotalli.comhttps://www.autotalli.com/vaihtoauto/36644815/Mazda/323/1999/Oulu?pos=17&page=5&searchType=usedCar', 'Mazda 323 1.5 GLX 4d - Tarjoa!', '290', '230000', '1999'), ('https://www.autotalli.comhttps://www.autotalli.com/vaihtoauto/36157757/Volvo/440/1996/Nousiainen?pos=18&page=5&searchType=usedCar', 'Volvo 440 1.8I CLASSIC', '300', '173400', '1996'), ('https://www.autotalli.comhttps://www.autotalli.com/vaihtoauto/36394483/Opel/Astra/1999/J%C3%A4rvenp%C3%A4%C3%A4?pos=19&page=5&searchType=usedCar', 'Opel Astra 1.6i Eco Club 3d', '300', '306000', '1999')]\n"
     ]
    }
   ],
   "source": [
    "from bs4 import BeautifulSoup\n",
    "import re, time\n",
    "\n",
    "import urllib\n",
    "\n",
    "\n",
    "'''\n",
    "<a class=\"carsListItemNameLink\" href=\"https://www.autotalli.com/vaihtoauto/35897954/Renault/Laguna/2000?pos=17&amp;page=5&amp;searchType=usedCar\">Renault Laguna BREAK CONFORT 1.6</a>\n",
    "'''\n",
    "\n",
    "class AppURLopener(urllib.request.FancyURLopener):\n",
    "    version = \"Mozilla/5.0\"\n",
    "\n",
    "def getDataFromLink(link):\n",
    "    opener = AppURLopener()\n",
    "    response = opener.open(link).read()\n",
    "    soup = BeautifulSoup(response, \"lxml\")\n",
    "    dataHtml = soup.findAll(\"div\", {\"class\": \"listContent used\"})\n",
    "\n",
    "    linkdataRaw = [a.find_all(\"a\", {\"class\": \"carsListItemNameLink\"}) for a in dataHtml]\n",
    "    links = [a['href'] for a in linkdataRaw[0]]\n",
    "    \n",
    "    #print(dataHtml)\n",
    "    \n",
    "    namedataRaw = [a.find_all(\"a\", {\"class\": \"carsListItemNameLink\"}) for a in dataHtml]\n",
    "    names=[]\n",
    "    for n in namedataRaw[0]:\n",
    "        names.append(n.string)\n",
    "    \n",
    "    pricedataRaw = [a.find_all(\"div\", {\"class\": \"carsListItemCarDetailBottomContainer\"}) for a in dataHtml]\n",
    "    pricekmyeardata = [a.find_all(\"div\", {\"class\": \"carsListItemCarBottomContainerItem\"}) for a in pricedataRaw[0]]\n",
    "    prices=[]\n",
    "    years=[]\n",
    "    kms=[]\n",
    "    for p in pricekmyeardata:\n",
    "        prices.append(p[0].string)\n",
    "        years.append(p[2].string)\n",
    "        kms.append(p[1].string)\n",
    "\n",
    "    \n",
    "    complete_data=[]\n",
    "    for i in range(0,len(links)):\n",
    "        complete_data.append(('https://www.autotalli.com'+links[i],\n",
    "        names[i],\n",
    "        prices[i],\n",
    "        kms[i],\n",
    "        years[i]))\n",
    "    return(complete_data)\n",
    "\n",
    "import csv\n",
    "def writeToCsv(file,data):\n",
    "    with open(file,'a') as f:\n",
    "        wr = csv.writer(f, dialect='excel')\n",
    "        wr.writerows(data)\n",
    "    \n",
    "link='https://www.autotalli.com/vaihtoautot/listaa/sivu/5'\n",
    "data=getDataFromLink(link)\n",
    "#writeToCsv(\"carPrices.csv\", data)\n",
    "print(data)"
   ]
  },
  {
   "cell_type": "code",
   "execution_count": null,
   "metadata": {},
   "outputs": [],
   "source": [
    "import datetime\n",
    "import psutil\n",
    "import os\n",
    "\n",
    "dir_name=\"./data/\"\n",
    "time=str(datetime.datetime.now().date())\n",
    "print(time)\n",
    "filename=time + \" autotalli.csv\"\n",
    "f=open(dir_name+filename,'a')\n",
    "f.close()\n",
    "\n",
    "raw_link='https://www.autotalli.com/vaihtoautot/listaa/sivu/'\n",
    "last_page=2400\n",
    "\n",
    "failed=0\n",
    "for i in range(1,last_page):\n",
    "    try:\n",
    "        print(\"Progress \"+str(i/last_page))\n",
    "        link=raw_link+str(i)\n",
    "        data=getDataFromLink(link)\n",
    "        writeToCsv(dir_name+filename, data)\n",
    "    except KeyboardInterrupt:\n",
    "        break\n",
    "    except:\n",
    "        print(\"Round failed \",i)\n",
    "        failed=failed+1\n",
    "print(\"Finished\")\n",
    "print(\"Failed \", failed)\n",
    "print(\"Succeeded \", last_page-failed)"
   ]
  },
  {
   "cell_type": "code",
   "execution_count": null,
   "metadata": {},
   "outputs": [],
   "source": []
  },
  {
   "cell_type": "code",
   "execution_count": null,
   "metadata": {},
   "outputs": [],
   "source": []
  },
  {
   "cell_type": "code",
   "execution_count": null,
   "metadata": {},
   "outputs": [],
   "source": []
  }
 ],
 "metadata": {
  "kernelspec": {
   "display_name": "Python 3",
   "language": "python",
   "name": "python3"
  },
  "language_info": {
   "codemirror_mode": {
    "name": "ipython",
    "version": 3
   },
   "file_extension": ".py",
   "mimetype": "text/x-python",
   "name": "python",
   "nbconvert_exporter": "python",
   "pygments_lexer": "ipython3",
   "version": "3.6.6"
  }
 },
 "nbformat": 4,
 "nbformat_minor": 2
}

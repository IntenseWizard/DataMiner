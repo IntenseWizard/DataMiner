{
 "cells": [
  {
   "cell_type": "code",
   "execution_count": 9,
   "metadata": {},
   "outputs": [
    {
     "name": "stdout",
     "output_type": "stream",
     "text": [
      "(0, 'ind', 'integer', 0, None, 0)\n",
      "(1, 'link', 'text', 0, None, 0)\n",
      "(2, 'name', 'text', 0, None, 0)\n",
      "(3, 'price', 'integer', 0, None, 0)\n",
      "(4, 'kms', 'integer', 0, None, 0)\n",
      "(5, 'year', 'integer', 0, None, 0)\n",
      "(6, 'insert_date', 'date', 0, None, 0)\n",
      "(7, 'batchname', 'varchar(50)', 0, None, 0)\n",
      "(0,)\n",
      "(0,)\n"
     ]
    }
   ],
   "source": [
    "import sqlite3, os, csv\n",
    "#(ind integer, link text, name text, price integer, kms integer, year integer, insert_date date)\n",
    "db_name = \"myown.db\"\n",
    "table_name=\"cars_raw\"\n",
    "def getSQL(cmd):\n",
    "    #Get cars which have multiple values in the database\n",
    "    conn = sqlite3.connect(db_name)\n",
    "    rows=[]\n",
    "    for row in conn.execute(cmd):\n",
    "        rows.append(row)\n",
    "    conn.close()\n",
    "    return rows\n",
    "\n",
    "def runSQL(cmd):\n",
    "    conn = sqlite3.connect(db_name)\n",
    "    conn.execute(cmd)\n",
    "    conn.commit()\n",
    "    conn.close()\n",
    "\n",
    "def printSQL(cmd):\n",
    "    res = getSQL(cmd)\n",
    "    for r in res:\n",
    "        print(r)\n",
    "    \n",
    "printSQL('PRAGMA table_info(cars_raw);')\n",
    "\n",
    "#https://www.nettiauto.com/volkswagen/transporter/9806664\n",
    "#https://www.autotalli.com/vaihtoauto/36623384/Ford/Transit/2014/H%C3%A4meenlinna?pos=0&page=1&searchType=usedCar\n",
    "#https://www.autotalli.com/vaihtoauto/36356948/Fiat/Scudo/2001/Kotka?pos=15&page=1&searchType=usedCar\n",
    "\n",
    "#res=getSQL(\"SELECT DISTINCT link FROM cars_raw LIMIT 10\")\n",
    "#res=getSQL(\"SELECT DISTINCT link FROM cars_raw\")\n",
    "#printSQL(\"SELECT DISTINCT count(1) FROM cars_raw where name like '%autotie.fi%'\")\n",
    "#res=getSQL(\"SELECT DISTINCT link FROM cars_raw where name like '%auto%' LIMIT 10\")\n",
    "'''for r in res:\n",
    "        #if not (\"www\" in r[0]):\n",
    "        print(r[0])'''\n",
    "#Remove link from name so it wont be \"link.com/mercedes\"\n",
    "runSQL(\"UPDATE cars_raw set name = replace(name,'https://www.autotie.fi','') where name like 'https://www.autotie.fi%'\")\n",
    "runSQL(\"UPDATE cars_raw set link = 'https://www.autotie.fi' || link where link not like 'https://www.autotie.fi%' and link not like 'https://www.nettiauto.com%' and link not like 'https://www.autotalli.com%'\")\n",
    "printSQL(\"SELECT count(1) from cars_raw where link not like 'https://www.autotie.fi%' and link not like 'https://www.nettiauto.com%' and link not like 'https://www.autotalli.com%' LIMIT 100\")\n",
    "printSQL(\"SELECT count(1) FROM cars_raw where name like '%autotie.fi%'\")"
   ]
  },
  {
   "cell_type": "code",
   "execution_count": null,
   "metadata": {},
   "outputs": [],
   "source": []
  },
  {
   "cell_type": "code",
   "execution_count": null,
   "metadata": {},
   "outputs": [],
   "source": [
    "SELECT Group, COUNT(*)\n",
    "FROM table\n",
    "GROUP BY Group\n",
    "ORDER BY COUNT(*) DESC"
   ]
  },
  {
   "cell_type": "code",
   "execution_count": 21,
   "metadata": {},
   "outputs": [
    {
     "name": "stdout",
     "output_type": "stream",
     "text": [
      "['Ford', 'Volkswagen', 'Mercedes-Benz', 'Volvo', 'Toyota', 'BMW', 'Opel', 'Audi', 'Skoda', 'Fiat', 'Renault', 'Nissan', 'Peugeot', 'Citroen', 'Mitsubishi', 'Mazda', 'Honda', 'Kia', 'Hyundai', 'KIA', 'Subaru', 'Chevrolet', 'Seat', 'Saab', 'SEAT', 'Chrysler', 'Land', 'Jaguar', 'Citroën', 'Lexus', 'Porsche', 'Suzuki', 'Dacia', 'Dodge', 'Jeep', 'Mini', 'Alfa', 'Adria', 'MINI', 'Cadillac', 'Lada', 'Pontiac', 'Burstner', 'Iveco', 'Isuzu', 'Tesla', 'Citro%C3%ABn', 'Dethleffs', 'Smart', 'Hobby', 'Daewoo', 'Ferrari', 'Lincoln', 'Lmc', 'Datsun', 'Maserati', 'Kabe', 'Plymouth', 'B%C3%BCrstner', 'Harley-Davidson', 'Buick', 'Rover', 'Carado', 'P%C3%B6ssl', 'Kawasaki', 'Bentley', 'GMC', 'Hymer', 'Sun', 'Oldsmobile', 'Knaus', 'Yamaha', 'Triumph', 'Solifer', 'SsangYong', 'TruckMasters', 'Lancia', 'Infiniti', 'Hummer', 'Mercury', 'MG', 'Daihatsu', 'Sunlight', 'Lamborghini', 'Fiat-Abarth', 'Moskvitsh', 'Ssangyong', 'Rolls-Royce', 'Aston', 'Vauxhall', 'Lotus', 'Harley', 'Austin', 'Morris', 'Casa', 'Rimor', 'Eura', 'Wartburg', 'Aixam', 'KTM', 'Muu', 'Truckmasters', 'Fiat-Elnagh', 'UAZ', 'GAZ', 'McLaren', 'Volga', 'Datsun-Nissan', 'Talbot', 'Mclouis', 'Lada-Vaz', 'Pw', 'Westfalia', 'Fiat-Burstner', 'Ducati', 'Karmann', 'Mercedes-Amg', 'Elnagh', 'Rambler', 'Husqvarna', 'Neckar', 'Aprilia', 'Bmw', 'DS', 'Gm', 'Piaggio', 'Sunbeam', 'Trabant', 'Can-Am', 'Victory', 'Willys', 'Fiat-Adria', 'Fiat-Dethleffs', 'Rapido', 'Hillman', 'Microcar', 'Sharky', 'Challenger', 'AMC', 'Ginetta', 'Man', 'Polaris', 'Daimler', 'Hudson', 'Cobra', 'Fuso', 'Derbi', 'Simca', 'Uttern', 'Cabby', 'DeSoto', 'Fendt', 'Daf', 'Weinsberg', 'Bobcat', 'Jdm', 'Ktm', 'Moto', 'Uaz', 'ZAZ', 'Eagle', 'Fiat-Lmc', 'Mv', 'Joint', 'Packard', 'Vespa', 'Auto', 'Bertone', 'Fiat-Ahorn', 'Globecar', 'Ligier', 'Polar', 'Sunwind', 'Tabbert', 'DKW', 'Buster', 'Carthago', 'Fiat-Sharky', 'Granduca', 'International', 'Kymco', 'Sea', 'Ford-Tec', 'Flair', 'Miller', 'Riviera', 'K%C3%A4rrysauna', 'Niewiadow', 'Fisker', 'Simson', 'Fiat-Chausson', 'Caterham', 'Piccolo', 'Studebaker', 'Wolseley', 'Standard', 'Bmwi', 'Checker', 'De', 'Poksi', 'Leyland', 'Lloyd', 'Acadian', 'Jensen', 'MAN', 'Riley', 'Matra', 'NSU', 'Armstrong', 'Hupmobile', 'Marcos', 'Chatenet', 'Matkaaja', 'Pinzgauer', 'Acura', 'Bedford', 'Frazer', 'Fiat-Solifer', 'Gilera', 'Borgward', 'Nash', 'Think', 'Maybach', 'Trapper', 'Radical', 'Capron', 'Essex', 'Rotec', 'Ci', 'FSO', 'London', 'TVR', 'Ford-Hobby', 'Morgan', 'DFSK']\n",
      "['Ford', 'Volkswagen', 'Mercedes-Benz', 'Volvo', 'Toyota', 'BMW', 'Opel', 'Audi', 'Skoda', 'Fiat', 'Renault', 'Nissan', 'Peugeot', 'Citroen', 'Mitsubishi', 'Mazda', 'Honda', 'Kia', 'Hyundai', 'KIA', 'Subaru', 'Chevrolet', 'Seat', 'Saab', 'SEAT', 'Chrysler', 'Land', 'Jaguar', 'Citroën', 'Lexus', 'Porsche', 'Suzuki', 'Dacia', 'Dodge', 'Jeep', 'Mini', 'Alfa', 'Adria', 'MINI', 'Cadillac', 'Lada', 'Pontiac', 'Burstner', 'Iveco', 'Isuzu', 'Tesla', 'Citro%C3%ABn', 'Dethleffs', 'Smart', 'Hobby', 'Daewoo', 'Ferrari', 'Lincoln', 'Lmc', 'Datsun', 'Maserati', 'Kabe', 'Plymouth', 'B%C3%BCrstner', 'Harley-Davidson', 'Buick', 'Rover', 'Carado', 'P%C3%B6ssl', 'Kawasaki', 'Bentley', 'GMC', 'Hymer', 'Sun', 'Oldsmobile', 'Knaus', 'Yamaha', 'Triumph', 'Solifer', 'SsangYong', 'TruckMasters', 'Lancia', 'Infiniti', 'Hummer', 'Mercury', 'MG', 'Daihatsu', 'Sunlight', 'Lamborghini', 'Fiat-Abarth', 'Moskvitsh', 'Ssangyong', 'Rolls-Royce', 'Aston', 'Vauxhall', 'Lotus', 'Harley', 'Austin', 'Morris', 'Casa', 'Rimor', 'Eura', 'Wartburg', 'Aixam', 'KTM', 'Muu', 'Truckmasters', 'Fiat-Elnagh', 'UAZ', 'GAZ', 'McLaren', 'Volga', 'Datsun-Nissan', 'Talbot', 'Mclouis', 'Lada-Vaz', 'Pw', 'Westfalia', 'Fiat-Burstner', 'Ducati', 'Karmann', 'Mercedes-Amg', 'Elnagh', 'Rambler', 'Husqvarna', 'Neckar', 'Aprilia', 'Bmw', 'DS', 'Gm', 'Piaggio', 'Sunbeam', 'Trabant', 'Can-Am', 'Victory', 'Willys', 'Fiat-Adria', 'Fiat-Dethleffs', 'Rapido', 'Hillman', 'Microcar', 'Sharky', 'Challenger', 'AMC', 'Ginetta', 'Man', 'Polaris', 'Daimler', 'Hudson', 'Cobra', 'Fuso', 'Derbi', 'Simca', 'Uttern', 'Cabby', 'DeSoto', 'Fendt', 'Daf', 'Weinsberg', 'Bobcat', 'Jdm', 'Ktm', 'Moto', 'Uaz', 'ZAZ', 'Eagle', 'Fiat-Lmc', 'Mv', 'Joint', 'Packard', 'Vespa', 'Auto', 'Bertone', 'Fiat-Ahorn', 'Globecar', 'Ligier', 'Polar', 'Sunwind', 'Tabbert', 'DKW', 'Buster', 'Carthago', 'Fiat-Sharky', 'Granduca', 'International', 'Kymco', 'Sea', 'Ford-Tec', 'Flair', 'Miller', 'Riviera', 'K%C3%A4rrysauna', 'Niewiadow', 'Fisker', 'Simson', 'Fiat-Chausson', 'Caterham', 'Piccolo', 'Studebaker', 'Wolseley', 'Standard', 'Bmwi', 'Checker', 'De', 'Poksi', 'Leyland', 'Lloyd', 'Acadian', 'Jensen', 'MAN', 'Riley', 'Matra', 'NSU', 'Armstrong', 'Hupmobile', 'Marcos', 'Chatenet', 'Matkaaja', 'Pinzgauer', 'Acura', 'Bedford', 'Frazer', 'Fiat-Solifer', 'Gilera', 'Borgward', 'Nash', 'Think', 'Maybach', 'Trapper', 'Radical', 'Capron', 'Essex', 'Rotec', 'Ci', 'FSO', 'London', 'TVR', 'Ford-Hobby', 'Morgan', 'DFSK']\n"
     ]
    }
   ],
   "source": [
    "#Get car makes\n",
    "import sqlite3 \n",
    "db_name=\"myown.db\"\n",
    "data_name=\"cars_raw\"\n",
    "\n",
    "#Get cars which have multiple values in the database\n",
    "conn = sqlite3.connect(db_name)\n",
    "#ret=conn.execute(\"select name from cars_raw where name like 'Toyota%'\").fetchall()\n",
    "ret=conn.execute(\"select distinct name from cars_raw\").fetchall()\n",
    "#substr(trim(cmd),1,instr(trim(cmd)||' ',' ')-1)\n",
    "ret=conn.execute(\"select distinct substr(trim(name),1,instr(trim(name)||' ',' ')-1) as Model, count(*) from cars_raw group by Model order by COUNT(*) DESC\").fetchall()\n",
    "conn.close()\n",
    "car_makes=[]\n",
    "car_models=[]\n",
    "for line in ret:\n",
    "    car_models.append(line[0])\n",
    "\n",
    "for model in car_models:\n",
    "    car_makes.append(model.partition(' ')[0])\n",
    "print(car_makes)\n",
    "print(car_models)"
   ]
  },
  {
   "cell_type": "code",
   "execution_count": 22,
   "metadata": {},
   "outputs": [],
   "source": [
    "#Based on this we get accepted car makes\n",
    "#cars=['Ford', 'Mercedes-Benz', 'Volkswagen', 'Toyota', 'Fiat', 'Renault', 'Mitsubishi', 'Peugeot', 'Opel', 'Honda', 'Audi', 'Citroen', 'Volvo', 'Lada', 'Mazda', 'Nissan', 'BMW', 'Saab', 'Alfa Romeo', 'Buick', 'Pontiac', 'Talbot', 'Chrysler', 'Suzuki', 'Skoda', 'Hyundai', 'Seat', 'Chevrolet', 'Vauxhall', 'Datsun', 'Moskvitsh', 'Daewoo', 'Dodge', 'Isuzu', 'Datsun-Nissan', 'Austin', 'Wartburg', 'Rover', 'Subaru', 'Daihatsu', 'Triumph', 'Bedford', 'Trabant', 'KIA', 'Cadillac', 'Oldsmobile', 'Plymouth', 'Jeep', 'Neckar', 'GAZ', 'Mercury', 'Lancia', 'Volga', 'SsangYong', 'Land Rover', 'Dacia', 'Sunbeam', 'Jaguar', 'Smart', 'Iveco', 'GMC', 'Lincoln', 'DKW', 'AMC', 'MG', 'Hillman', 'Eagle', 'Mini', 'Morris', 'UAZ', 'Simca', 'Lexus', 'Rambler', 'Porsche', 'Daf', 'Hudson', 'Think', 'Willys', 'Wolseley', 'DeSoto', 'Jensen', 'Infiniti', 'Packard', 'Fiat', 'Nash', 'Daimler', 'TruckMasters', 'Hummer', 'Studebaker', 'Checker', 'Rolls-Royce', 'Hupmobile', 'Bentley', 'Maserati', 'Cobra', 'Caterham', 'Fuso', 'Armstrong', 'Tesla', 'Ferrari', 'Lotus', 'Aston', 'Fisker', 'Lamborghini', 'Ginetta', 'McLaren', 'Borgward', 'Leyland', 'MAN', 'Marcos', 'SEAT', 'Kia', 'Ssangyong', 'MINI', 'Mercedes', 'Harley-Davidson', 'Victory', 'Kawasaki', 'Ducati', 'Granduca', 'Lmc', 'Westfalia', 'Adria', 'Yamaha', 'Ktm', 'Harley', 'Jdm', 'Uaz', 'Piaggio', 'Knaus', 'Carado', 'Microcar', 'Dethleffs', 'Sunlight', 'Aixam', 'Casa', 'Ligier', 'Aprilia', 'Sunwind', 'Sun', 'Hymer', 'Bmw', 'Man', 'Lada-Vaz', 'Can-Am', 'Globecar', 'KTM', 'Eura', 'Bertone', 'Burstner', 'Polar', 'Kabe', 'Tabbert', 'Pw', 'Derbi', 'Kymco', 'Polaris', 'Sea', 'Buster', 'Mclouis', 'Rimor', 'Gm', 'DS', 'Riviera', 'Truckmasters', 'Hobby', 'Cabby', 'Solifer', 'Challenger', 'Elnagh', 'Weinsberg', 'Joint', 'Miller', 'Karmann', 'Carthago', 'Sharky', 'Flair', 'Simson', 'Bmwi', 'Piccolo', 'Uttern', 'Matkaaja', 'Fendt', 'Rapido', 'Vespa', 'Niewiadow', 'Standard', 'Acadian', 'Acura', 'ZAZ', 'Lloyd', 'Matra', 'Riley', 'Frazer', 'Pinzgauer', 'NSU', 'London', 'TVR', 'Citroën', 'Chatenet', 'Poksi', 'Radical', 'Morgan', 'Maybach', 'Rotec', 'Capron', 'Gilera', 'FSO', 'Trapper', 'Essex', 'Ci', 'DFSK']\n",
    "cars=['Ford', 'Volkswagen', 'Mercedes-Benz', 'Volvo', 'Toyota', 'BMW', 'Opel', 'Audi', 'Skoda', 'Fiat', 'Renault', 'Nissan', 'Peugeot', 'Citroen', 'Mitsubishi', 'Mazda', 'Honda', 'Kia', 'Hyundai', 'KIA', 'Subaru', 'Chevrolet', 'Seat', 'Saab', 'SEAT', 'Chrysler', 'Land', 'Jaguar', 'Citroën', 'Lexus', 'Porsche', 'Suzuki', 'Dacia', 'Dodge', 'Jeep', 'Mini', 'Alfa', 'Adria', 'MINI', 'Cadillac', 'Lada', 'Pontiac', 'Burstner', 'Iveco', 'Isuzu', 'Tesla']\n",
    "excluded = [c for c in car_makes if (c not in cars)]"
   ]
  },
  {
   "cell_type": "code",
   "execution_count": 25,
   "metadata": {},
   "outputs": [
    {
     "name": "stdout",
     "output_type": "stream",
     "text": [
      "['Ford', 'Volkswagen', 'Mercedes-Benz', 'Volvo', 'Toyota', 'BMW', 'Opel', 'Audi', 'Skoda', 'Fiat', 'Renault', 'Nissan', 'Peugeot', 'Citroen', 'Mitsubishi', 'Mazda', 'Honda', 'Kia', 'Hyundai', 'KIA', 'Subaru', 'Chevrolet', 'Seat', 'Saab', 'SEAT', 'Chrysler', 'Land', 'Jaguar', 'Citroën', 'Lexus', 'Porsche', 'Suzuki', 'Dacia', 'Dodge', 'Jeep', 'Mini', 'Alfa', 'Adria', 'MINI', 'Cadillac', 'Lada', 'Pontiac', 'Burstner', 'Iveco', 'Isuzu', 'Tesla']\n",
      "46\n"
     ]
    }
   ],
   "source": [
    "print(cars)\n",
    "print(len(cars))"
   ]
  },
  {
   "cell_type": "code",
   "execution_count": 29,
   "metadata": {},
   "outputs": [
    {
     "name": "stdout",
     "output_type": "stream",
     "text": [
      "('Model', 'Count', 'Price')\n",
      "('Volkswagen', 541407, 15858.467718370837)\n",
      "('Mercedes-Benz', 527083, 22518.972199824315)\n",
      "('BMW', 446032, 22566.38665835635)\n",
      "('Ford', 436919, 18034.007092847874)\n",
      "('Volvo', 418630, 20987.86769701168)\n",
      "('Toyota', 374504, 14047.617387264221)\n",
      "('Audi', 342984, 21521.41979800807)\n",
      "('Opel', 244855, 14705.96001306896)\n",
      "('Skoda', 237098, 17067.249854490547)\n",
      "('Nissan', 204401, 13441.651904834125)\n",
      "('Citroen', 168500, 5773.717756676558)\n",
      "('Peugeot', 124835, 10075.700797052108)\n",
      "('Renault', 106646, 12142.335708793578)\n",
      "('Honda', 99865, 12382.633304961699)\n",
      "('Mazda', 85462, 12949.835681355456)\n",
      "('Hyundai', 83500, 13737.488754491018)\n",
      "('Kia', 77694, 20864.345161788555)\n",
      "('Mitsubishi', 76088, 16564.187611712754)\n",
      "('KIA', 72249, 16336.887195670528)\n",
      "('Fiat', 48085, 7674.795050431528)\n",
      "('Subaru', 42754, 17728.35739346026)\n",
      "('Chevrolet', 37586, 9942.728675570692)\n",
      "('Seat', 34901, 9878.253058651615)\n",
      "('SEAT', 27556, 16037.610756278125)\n",
      "('Saab', 27056, 4749.610141927853)\n",
      "('Chrysler', 25647, 4482.899910320895)\n",
      "('Land', 25413, 36240.1895486562)\n",
      "('Jaguar', 24484, 29520.832053586015)\n",
      "('Lexus', 22056, 27779.684122234314)\n",
      "('Porsche', 21749, 60256.529587567245)\n",
      "('Suzuki', 19129, 10431.223587223587)\n",
      "('Dacia', 18385, 12294.268098993745)\n",
      "('Dodge', 16297, 13571.727434497147)\n",
      "('Jeep', 13497, 16891.89227235682)\n",
      "('Mini', 12159, 15442.104202648245)\n",
      "('Alfa', 10375, 11585.771180722892)\n",
      "('Adria', 9615, 51223.365366614664)\n",
      "('MINI', 8780, 21672.715034168566)\n",
      "('Cadillac', 5795, 16567.980845556514)\n",
      "('Burstner', 4347, 61701.28939498505)\n",
      "('Iveco', 4327, 18383.08805176797)\n",
      "('Isuzu', 3584, 20676.805524553572)\n",
      "('Lada', 3203, 1698.343428036216)\n",
      "('Tesla', 2953, 64375.53335590925)\n",
      "('Citro%C3%ABn', 2841, 19623.64906722985)\n",
      "('Dethleffs', 2603, 28442.993853246255)\n"
     ]
    }
   ],
   "source": [
    "#Get car makes \n",
    "#we select 46 most popular\n",
    "#get average price of the cars\n",
    "#TODO: this does not take into account duplicate values\n",
    "\n",
    "#Get cars which have multiple values in the database\n",
    "conn = sqlite3.connect(db_name)\n",
    "#ret=conn.execute(\"select name from cars_raw where name like 'Toyota%'\").fetchall()\n",
    "ret=conn.execute(\"select distinct name from cars_raw\").fetchall()\n",
    "#substr(trim(cmd),1,instr(trim(cmd)||' ',' ')-1)\n",
    "ret=conn.execute(\"select distinct substr(trim(name),1,instr(trim(name)||' ',' ')-1) as Model, count(*), avg(price) from cars_raw where price > 500 group by Model order by count(*) DESC LIMIT 46\").fetchall()\n",
    "conn.close()\n",
    "res=[]\n",
    "print((\"Model\",\"Count\",\"Price\"))\n",
    "for line in ret:\n",
    "    print(line)\n",
    "    res.append(line)\n"
   ]
  },
  {
   "cell_type": "code",
   "execution_count": null,
   "metadata": {},
   "outputs": [],
   "source": []
  },
  {
   "cell_type": "code",
   "execution_count": null,
   "metadata": {},
   "outputs": [],
   "source": []
  }
 ],
 "metadata": {
  "kernelspec": {
   "display_name": "Python 3",
   "language": "python",
   "name": "python3"
  },
  "language_info": {
   "codemirror_mode": {
    "name": "ipython",
    "version": 3
   },
   "file_extension": ".py",
   "mimetype": "text/x-python",
   "name": "python",
   "nbconvert_exporter": "python",
   "pygments_lexer": "ipython3",
   "version": "3.6.6"
  }
 },
 "nbformat": 4,
 "nbformat_minor": 2
}

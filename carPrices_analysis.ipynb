{
 "cells": [
  {
   "cell_type": "code",
   "execution_count": 67,
   "metadata": {},
   "outputs": [
    {
     "name": "stdout",
     "output_type": "stream",
     "text": [
      "(30002, 5)\n"
     ]
    }
   ],
   "source": [
    "import csv\n",
    "import pandas\n",
    "import numpy\n",
    "from re import sub\n",
    "\n",
    "def keepNumbers(text):\n",
    "    print(type(text))\n",
    "    if type(text)==numpy.int64:\n",
    "        return sub('[^0-9]', '', text)\n",
    "    else:\n",
    "        return 0\n",
    "    \n",
    "filename='2018-10-12 car prices.csv'\n",
    "'''def loadFile(filename):\n",
    "    file = open(filename)\n",
    "\n",
    "    data=[]\n",
    "    for line in file:\n",
    "        data.append(line)\n",
    "    return data\n",
    "\n",
    "filename='2018-10-12 car prices.csv'\n",
    "data=loadFile(filename)'''\n",
    "#print(data)\n",
    "\n",
    "df=pandas.read_csv(filename, header=None, sep=',', index_col=None)\n",
    "df.columns=[\"Link\", \"Name\", \"Price\", \"Year\", \"Kms\"]\n",
    "print(df.shape)\n",
    "\n",
    "#print(df[\"Price\"])"
   ]
  },
  {
   "cell_type": "code",
   "execution_count": 59,
   "metadata": {},
   "outputs": [
    {
     "name": "stdout",
     "output_type": "stream",
     "text": [
      "<class 'int'>\n",
      "True\n"
     ]
    }
   ],
   "source": [
    "import numpy\n",
    "print(type(1))\n",
    "print(type(df[\"Price\"][0])==numpy.int64)\n"
   ]
  }
 ],
 "metadata": {
  "kernelspec": {
   "display_name": "Python 3",
   "language": "python",
   "name": "python3"
  },
  "language_info": {
   "codemirror_mode": {
    "name": "ipython",
    "version": 3
   },
   "file_extension": ".py",
   "mimetype": "text/x-python",
   "name": "python",
   "nbconvert_exporter": "python",
   "pygments_lexer": "ipython3",
   "version": "3.6.6"
  }
 },
 "nbformat": 4,
 "nbformat_minor": 2
}

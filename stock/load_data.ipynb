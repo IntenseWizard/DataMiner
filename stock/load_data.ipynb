{
 "cells": [
  {
   "cell_type": "code",
   "execution_count": 27,
   "metadata": {},
   "outputs": [
    {
     "name": "stdout",
     "output_type": "stream",
     "text": [
      "Empty DataFrame\n",
      "Columns: [ticker, date, adj_close]\n",
      "Index: []\n"
     ]
    },
    {
     "name": "stderr",
     "output_type": "stream",
     "text": [
      "/usr/lib/python3/dist-packages/ipykernel_launcher.py:23: FutureWarning: Comparing Series of datetimes with 'datetime.date'.  Currently, the\n",
      "'datetime.date' is coerced to a datetime. In the future pandas will\n",
      "not coerce, and a TypeError will be raised. To retain the current\n",
      "behavior, convert the 'datetime.date' to a datetime with\n",
      "'pd.Timestamp'.\n"
     ]
    }
   ],
   "source": [
    "import pandas as pd\n",
    "import quandl\n",
    "import datetime\n",
    "\n",
    "quandl.ApiConfig.api_key = '4Cid_-xbeJ-fvJsAF8Rr'\n",
    "\n",
    "# We will look at stock prices over the past year, starting at January 1, 2016\n",
    "start = datetime.datetime(2018,1,1)\n",
    "end = datetime.date.today()\n",
    " \n",
    "# Let's get Apple stock data; Apple's ticker symbol is AAPL\n",
    "# First argument is the series we want, second is the source (\"yahoo\" for Yahoo! Finance), third is the start date, fourth is the end date\n",
    "stocks = [\"INTC\",\"NVDA\",\"AMD\"]\n",
    "data = quandl.get_table('WIKI/PRICES', ticker = stocks, \n",
    "                  qopts = { 'columns': ['ticker', 'date', 'adj_close'] }, \n",
    "                  date = { 'gte': start, 'lte': end}, \n",
    "                  paginate=True)\n",
    "\n",
    "\n",
    "#oil= quandl.get(\"EIA/PET_RWTC_D\")\n",
    "#get\n",
    "#mydata = quandl.get(\"FRED/GDP\", start_date=\"2001-12-31\", end_date=\"2005-12-31\")\n",
    "print(data[data[\"date\"]>datetime.date.today()-datetime.timedelta(1)])"
   ]
  },
  {
   "cell_type": "code",
   "execution_count": 10,
   "metadata": {},
   "outputs": [
    {
     "ename": "Error",
     "evalue": "iterator should return strings, not bytes (did you open the file in text mode?)",
     "output_type": "error",
     "traceback": [
      "\u001b[0;31m---------------------------------------------------------------------------\u001b[0m",
      "\u001b[0;31mError\u001b[0m                                     Traceback (most recent call last)",
      "\u001b[0;32m<ipython-input-10-4bced3a1dc1d>\u001b[0m in \u001b[0;36m<module>\u001b[0;34m()\u001b[0m\n\u001b[1;32m     52\u001b[0m         \u001b[0;32mreturn\u001b[0m \u001b[0mpd\u001b[0m\u001b[0;34m.\u001b[0m\u001b[0mDataFrame\u001b[0m\u001b[0;34m(\u001b[0m\u001b[0mrows\u001b[0m\u001b[0;34m,\u001b[0m \u001b[0mindex\u001b[0m\u001b[0;34m=\u001b[0m\u001b[0mpd\u001b[0m\u001b[0;34m.\u001b[0m\u001b[0mDatetimeIndex\u001b[0m\u001b[0;34m(\u001b[0m\u001b[0mtimes\u001b[0m\u001b[0;34m,\u001b[0m \u001b[0mname\u001b[0m\u001b[0;34m=\u001b[0m\u001b[0;34m'Date'\u001b[0m\u001b[0;34m)\u001b[0m\u001b[0;34m)\u001b[0m\u001b[0;34m\u001b[0m\u001b[0;34m\u001b[0m\u001b[0m\n\u001b[1;32m     53\u001b[0m \u001b[0;34m\u001b[0m\u001b[0m\n\u001b[0;32m---> 54\u001b[0;31m \u001b[0mprint\u001b[0m\u001b[0;34m(\u001b[0m\u001b[0mget_google_finance_intraday\u001b[0m\u001b[0;34m(\u001b[0m\u001b[0;34m\"AAPL\"\u001b[0m\u001b[0;34m)\u001b[0m\u001b[0;34m)\u001b[0m\u001b[0;34m\u001b[0m\u001b[0;34m\u001b[0m\u001b[0m\n\u001b[0m",
      "\u001b[0;32m<ipython-input-10-4bced3a1dc1d>\u001b[0m in \u001b[0;36mget_google_finance_intraday\u001b[0;34m(ticker, period, days)\u001b[0m\n\u001b[1;32m     38\u001b[0m     \u001b[0mrows\u001b[0m \u001b[0;34m=\u001b[0m \u001b[0;34m[\u001b[0m\u001b[0;34m]\u001b[0m\u001b[0;34m\u001b[0m\u001b[0;34m\u001b[0m\u001b[0m\n\u001b[1;32m     39\u001b[0m     \u001b[0mtimes\u001b[0m \u001b[0;34m=\u001b[0m \u001b[0;34m[\u001b[0m\u001b[0;34m]\u001b[0m\u001b[0;34m\u001b[0m\u001b[0;34m\u001b[0m\u001b[0m\n\u001b[0;32m---> 40\u001b[0;31m     \u001b[0;32mfor\u001b[0m \u001b[0mrow\u001b[0m \u001b[0;32min\u001b[0m \u001b[0mreader\u001b[0m\u001b[0;34m:\u001b[0m\u001b[0;34m\u001b[0m\u001b[0;34m\u001b[0m\u001b[0m\n\u001b[0m\u001b[1;32m     41\u001b[0m         \u001b[0;32mif\u001b[0m \u001b[0mre\u001b[0m\u001b[0;34m.\u001b[0m\u001b[0mmatch\u001b[0m\u001b[0;34m(\u001b[0m\u001b[0;34m'^[a\\d]'\u001b[0m\u001b[0;34m,\u001b[0m \u001b[0mrow\u001b[0m\u001b[0;34m[\u001b[0m\u001b[0;36m0\u001b[0m\u001b[0;34m]\u001b[0m\u001b[0;34m)\u001b[0m\u001b[0;34m:\u001b[0m\u001b[0;34m\u001b[0m\u001b[0;34m\u001b[0m\u001b[0m\n\u001b[1;32m     42\u001b[0m             \u001b[0;32mif\u001b[0m \u001b[0mrow\u001b[0m\u001b[0;34m[\u001b[0m\u001b[0;36m0\u001b[0m\u001b[0;34m]\u001b[0m\u001b[0;34m.\u001b[0m\u001b[0mstartswith\u001b[0m\u001b[0;34m(\u001b[0m\u001b[0;34m'a'\u001b[0m\u001b[0;34m)\u001b[0m\u001b[0;34m:\u001b[0m\u001b[0;34m\u001b[0m\u001b[0;34m\u001b[0m\u001b[0m\n",
      "\u001b[0;31mError\u001b[0m: iterator should return strings, not bytes (did you open the file in text mode?)"
     ]
    }
   ],
   "source": [
    "#!/usr/bin/env python \n",
    "\"\"\"\n",
    "Retrieve intraday stock data from Google Finance.\n",
    "\"\"\"\n",
    "\n",
    "import csv\n",
    "import datetime\n",
    "import re\n",
    "\n",
    "import pandas as pd\n",
    "import requests\n",
    "\n",
    "def get_google_finance_intraday(ticker, period=60, days=1):\n",
    "    \"\"\"\n",
    "    Retrieve intraday stock data from Google Finance.\n",
    "    Parameters\n",
    "    ----------\n",
    "    ticker : str\n",
    "        Company ticker symbol.\n",
    "    period : int\n",
    "        Interval between stock values in seconds.\n",
    "    days : int\n",
    "        Number of days of data to retrieve.\n",
    "    Returns\n",
    "    -------\n",
    "    df : pandas.DataFrame\n",
    "        DataFrame containing the opening price, high price, low price,\n",
    "        closing price, and volume. The index contains the times associated with\n",
    "        the retrieved price values.\n",
    "    \"\"\"\n",
    "\n",
    "    uri = 'http://www.google.com/finance/getprices' \\\n",
    "          '?i={period}&p={days}d&f=d,o,h,l,c,v&df=cpct&q={ticker}'.format(ticker=ticker,\n",
    "                                                                          period=period,\n",
    "                                                                          days=days)\n",
    "    page = requests.get(uri)\n",
    "    reader = csv.reader(page.content.splitlines())\n",
    "    columns = ['Open', 'High', 'Low', 'Close', 'Volume']\n",
    "    rows = []\n",
    "    times = []\n",
    "    for row in reader:\n",
    "        if re.match('^[a\\d]', row[0]):\n",
    "            if row[0].startswith('a'):\n",
    "                start = datetime.datetime.fromtimestamp(int(row[0][1:]))\n",
    "                times.append(start)\n",
    "            else:\n",
    "                times.append(start+datetime.timedelta(seconds=period*int(row[0])))\n",
    "            rows.append(map(float, row[1:]))\n",
    "    if len(rows):\n",
    "        return pd.DataFrame(rows, index=pd.DatetimeIndex(times, name='Date'),\n",
    "                            columns=columns)\n",
    "    else:\n",
    "        return pd.DataFrame(rows, index=pd.DatetimeIndex(times, name='Date'))\n",
    "\n",
    "print(get_google_finance_intraday(\"AAPL\"))"
   ]
  },
  {
   "cell_type": "code",
   "execution_count": 9,
   "metadata": {},
   "outputs": [
    {
     "name": "stdout",
     "output_type": "stream",
     "text": [
      "Done:  INTC\n",
      "Done:  NVDA\n",
      "Done:  AMD\n",
      "Ready\n"
     ]
    }
   ],
   "source": [
    "from alpha_vantage.timeseries import TimeSeries\n",
    "import datetime \n",
    "def getData(stock):\n",
    "    ts = TimeSeries(key='EJ69MPM068NGTJ30', output_format='pandas')\n",
    "    data, meta_data = ts.get_intraday(symbol=stock,interval='1min', outputsize='compact')\n",
    "    return data, meta_data\n",
    "\n",
    "stocks = [\"INTC\",\"NVDA\",\"AMD\"]\n",
    "today = datetime.date.today()\n",
    "for s in stocks:\n",
    "    data, metadata = getData(s)\n",
    "    data.to_csv(str(today)+\" \"+s+\".csv\",sep=\";\")\n",
    "    '''    with open(s+\".csv\",\"w\") as f:\n",
    "        for d in data:\n",
    "            f.write(d)\n",
    "        for m in metadata:\n",
    "            f.write(m)\n",
    "        f.flush()'''\n",
    "    print(\"Done: \",s)\n",
    "print(\"Ready\")"
   ]
  },
  {
   "cell_type": "code",
   "execution_count": null,
   "metadata": {},
   "outputs": [],
   "source": [
    "\n",
    "\n",
    "\n"
   ]
  }
 ],
 "metadata": {
  "kernelspec": {
   "display_name": "Python 3",
   "language": "python",
   "name": "python3"
  },
  "language_info": {
   "codemirror_mode": {
    "name": "ipython",
    "version": 3
   },
   "file_extension": ".py",
   "mimetype": "text/x-python",
   "name": "python",
   "nbconvert_exporter": "python",
   "pygments_lexer": "ipython3",
   "version": "3.6.7"
  }
 },
 "nbformat": 4,
 "nbformat_minor": 2
}

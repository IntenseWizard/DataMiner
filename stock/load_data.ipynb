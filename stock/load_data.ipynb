{
 "cells": [
  {
   "cell_type": "code",
   "execution_count": 10,
   "metadata": {},
   "outputs": [
    {
     "name": "stdout",
     "output_type": "stream",
     "text": [
      "Done:  ./stock_data/2019-03-16 INTC.csv\n",
      "Done:  ./stock_data/2019-03-16 NVDA.csv\n",
      "Done:  ./stock_data/2019-03-16 AMD.csv\n",
      "Ready\n"
     ]
    }
   ],
   "source": [
    "from alpha_vantage.timeseries import TimeSeries\n",
    "import datetime\n",
    "import os\n",
    "\n",
    "def getData(stock):\n",
    "    ts = TimeSeries(key='EJ69MPM068NGTJ30', output_format='pandas')\n",
    "    data, meta_data = ts.get_intraday(symbol=stock,interval='1min', outputsize='compact')\n",
    "    return data, meta_data\n",
    "\n",
    "stocks = [\"INTC\",\"NVDA\",\"AMD\"]\n",
    "today = datetime.date.today()\n",
    "folder=\"./stock_data/\"\n",
    "\n",
    "if not os.path.exists(folder):\n",
    "    os.makedirs(folder)\n",
    "    \n",
    "for s in stocks:\n",
    "    data, metadata = getData(s)\n",
    "    data.to_csv(folder+str(today)+\" \"+s+\".csv\",sep=\";\")\n",
    "    '''    with open(s+\".csv\",\"w\") as f:\n",
    "        for d in data:\n",
    "            f.write(d)\n",
    "        for m in metadata:\n",
    "            f.write(m)\n",
    "        f.flush()'''\n",
    "    print(\"Done: \",folder+str(today)+\" \"+s+\".csv\")\n",
    "print(\"Ready\")"
   ]
  },
  {
   "cell_type": "code",
   "execution_count": null,
   "metadata": {},
   "outputs": [],
   "source": []
  },
  {
   "cell_type": "code",
   "execution_count": null,
   "metadata": {},
   "outputs": [],
   "source": []
  },
  {
   "cell_type": "code",
   "execution_count": null,
   "metadata": {},
   "outputs": [],
   "source": [
    "\n",
    "\n",
    "\n"
   ]
  }
 ],
 "metadata": {
  "kernelspec": {
   "display_name": "Python 3",
   "language": "python",
   "name": "python3"
  },
  "language_info": {
   "codemirror_mode": {
    "name": "ipython",
    "version": 3
   },
   "file_extension": ".py",
   "mimetype": "text/x-python",
   "name": "python",
   "nbconvert_exporter": "python",
   "pygments_lexer": "ipython3",
   "version": "3.6.7"
  }
 },
 "nbformat": 4,
 "nbformat_minor": 2
}

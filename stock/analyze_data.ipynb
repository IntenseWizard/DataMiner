{
 "cells": [
  {
   "cell_type": "code",
   "execution_count": 11,
   "metadata": {},
   "outputs": [
    {
     "name": "stdout",
     "output_type": "stream",
     "text": [
      "2019-03-16 AMD.csv\n",
      "2019-03-13 NVDA.csv\n",
      "2019-03-13 AMD.csv\n",
      "2019-03-16 NVDA.csv\n",
      "2019-03-13 INTC.csv\n",
      "2019-03-16 INTC.csv\n"
     ]
    }
   ],
   "source": [
    "import os\n",
    "import pandas as pd\n",
    "folder=\"./stock_data/\"\n",
    "all_data=[]\n",
    "names=[]\n",
    "for file in os.listdir(folder):\n",
    "    print(file)\n",
    "    reader=pd.read_csv(folder+file,header=1,sep=\";\")\n",
    "    names.append(file.split(\" \"))\n",
    "    data=[]\n",
    "    with open(folder+file,\"r\") as f:\n",
    "        reader=f.readlines()\n",
    "        for r in reader:\n",
    "            data.append(r)\n",
    "    all_data.append(data)\n"
   ]
  },
  {
   "cell_type": "code",
   "execution_count": 12,
   "metadata": {},
   "outputs": [
    {
     "name": "stdout",
     "output_type": "stream",
     "text": [
      "[['2019-03-16', 'AMD.csv'], ['2019-03-13', 'NVDA.csv'], ['2019-03-13', 'AMD.csv'], ['2019-03-16', 'NVDA.csv'], ['2019-03-13', 'INTC.csv'], ['2019-03-16', 'INTC.csv']]\n"
     ]
    }
   ],
   "source": [
    "print(names)"
   ]
  }
 ],
 "metadata": {
  "kernelspec": {
   "display_name": "Python 3",
   "language": "python",
   "name": "python3"
  },
  "language_info": {
   "codemirror_mode": {
    "name": "ipython",
    "version": 3
   },
   "file_extension": ".py",
   "mimetype": "text/x-python",
   "name": "python",
   "nbconvert_exporter": "python",
   "pygments_lexer": "ipython3",
   "version": "3.6.7"
  }
 },
 "nbformat": 4,
 "nbformat_minor": 2
}

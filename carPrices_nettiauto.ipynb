{
 "cells": [
  {
   "cell_type": "code",
   "execution_count": 1,
   "metadata": {},
   "outputs": [
    {
     "name": "stderr",
     "output_type": "stream",
     "text": [
      "C:\\Users\\mpalonie\\AppData\\Local\\Continuum\\anaconda3\\envs\\py36\\lib\\site-packages\\ipykernel_launcher.py:10: DeprecationWarning: AppURLopener style of invoking requests is deprecated. Use newer urlopen functions/methods\n",
      "  # Remove the CWD from sys.path while we load stuff.\n"
     ]
    },
    {
     "name": "stdout",
     "output_type": "stream",
     "text": [
      "[('https://www.nettiauto.com/bmw/x1/9903817', 'BMW X1 (2.0)', '19490', '154000', '2014'), ('https://www.nettiauto.com/volkswagen/passat/10039953', 'Volkswagen Passat (2.0)', '20900', '115000', '2013'), ('https://www.nettiauto.com/citroen/bx/9908504', 'Citroen BX (1.4)', '51', None, '1987'), ('https://www.nettiauto.com/volvo/440/9997013', 'Volvo 440 (1.8)', '51', '377000', '1996'), ('https://www.nettiauto.com/opel/astra/9996943', 'Opel Astra (1.6)', '55', '200000', '1993'), ('https://www.nettiauto.com/fiat/bravo/9920770', 'Fiat Bravo (1.2)', '60', '223000', '2000'), ('https://www.nettiauto.com/volvo/s40/10007211', 'Volvo S40 (1.8)', '60', '333000', '2001'), ('https://www.nettiauto.com/mazda/323/9927148', 'Mazda 323 (1.3)', '70', None, '1989'), ('https://www.nettiauto.com/ford/mondeo/10042033', 'Ford Mondeo (2.0)', '70', '350088', '1998'), ('https://www.nettiauto.com/toyota/carina-ii/10004016', 'Toyota Carina II (1.6)', '75', '360000', '1985'), ('https://www.nettiauto.com/volkswagen/polo/10042041', 'Volkswagen Polo (1.4)', '80', None, '2018'), ('https://www.nettiauto.com/mazda/323f/10002157', 'Mazda 323F (1.5)', '90', None, '1995'), ('https://www.nettiauto.com/opel/astra/10039658', 'Opel Astra (1.6)', '99', '219000', '1997'), ('https://www.nettiauto.com/opel/astra/9906148', 'Opel Astra (2.0)', '100', '358000', '1998'), ('https://www.nettiauto.com/peugeot/406/9911419', 'Peugeot 406 (1.9)', '100', None, '1997'), ('https://www.nettiauto.com/opel/corsa/9915876', 'Opel Corsa (1.4)', '100', '243000', '1995'), ('https://www.nettiauto.com/mazda/626/9917540', 'Mazda 626 (2.0)', '100', None, '1985'), ('https://www.nettiauto.com/fiat/bravo/9918346', 'Fiat Bravo (1.2)', '100', '240000', '2000'), ('https://www.nettiauto.com/peugeot/309/9927407', 'Peugeot 309 (1.6)', '100', '300000', '1990'), ('https://www.nettiauto.com/ford/escort/9930143', 'Ford Escort (1.6)', '100', None, '1993'), ('https://www.nettiauto.com/fiat/punto/9932768', 'Fiat Punto (1.1)', '100', '200000', '2000'), ('https://www.nettiauto.com/renault/laguna/9943924', 'Renault Laguna (1.6)', '100', '255000', '2002'), ('https://www.nettiauto.com/peugeot/406/9956175', 'Peugeot 406 (2.0)', '100', '254257', '1996'), ('https://www.nettiauto.com/mitsubishi/carisma/9982171', 'Mitsubishi Carisma (1.6)', '100', None, '2000'), ('https://www.nettiauto.com/ford/ka/9982942', 'Ford Ka (1.3)', '100', '140000', '2000'), ('https://www.nettiauto.com/opel/vectra/9984394', 'Opel Vectra (2.0)', '100', '4000000', '1998'), ('https://www.nettiauto.com/ford/orion/9986759', 'Ford Orion (1.6)', '100', None, '1991'), ('https://www.nettiauto.com/citroen/xantia/9995639', 'Citroen Xantia (1.8)', None, '480000', '1998'), ('https://www.nettiauto.com/opel/astra/9996393', 'Opel Astra (1.6)', '100', '300000', '2000'), ('https://www.nettiauto.com/alfa-romeo/156/9997012', 'Alfa Romeo 156 (1.7)', '100', '262000', '2000'), ('https://www.nettiauto.com/lada/110/10001178', 'Lada 110 (1.5)', '100', None, '2001'), ('https://www.nettiauto.com/ford/mondeo/10007326', 'Ford Mondeo (1.6)', '100', '320000', '1998')]\n"
     ]
    }
   ],
   "source": [
    "from bs4 import BeautifulSoup\n",
    "import re, time\n",
    "\n",
    "import urllib.request\n",
    "\n",
    "class AppURLopener(urllib.request.FancyURLopener):\n",
    "    version = \"Mozilla/5.0\"\n",
    "\n",
    "def getDataFromLink(link):\n",
    "    opener = AppURLopener()\n",
    "    response = opener.open(link).read()\n",
    "    soup = BeautifulSoup(response, \"lxml\")\n",
    "    dataHtml = soup.findAll(\"div\", {\"class\": \"data_box\"})\n",
    "\n",
    "    #data = dataHtml.find(\"li\", {\"class\": \"bold\"})\n",
    "\n",
    "    #print(dataHtml)\n",
    "    rawList=soup.find_all(\"div\", {\"class\": \"data_box\"})\n",
    "\n",
    "    linkdataRaw = [a.find_all(\"div\", {\"class\": \"location_info cleafix_nett\"}) for a in rawList]\n",
    "    linkdata = [a[0].find_all(\"a\") for a in linkdataRaw]\n",
    "    link = [a[0]['href'] for a in linkdata]\n",
    "    \n",
    "    links=[]\n",
    "    \n",
    "    for l in link:\n",
    "        try:links.append(l.replace(\"#contact\",''))\n",
    "        except: links.append(None)\n",
    "            \n",
    "    nameenginedata = [a.find_all(\"div\", {\"class\": \"make_model_link\"}) for a in rawList]\n",
    "    names=[]\n",
    "    for n in nameenginedata:\n",
    "        try:names.append(n[0].text.strip())\n",
    "        except:names.append(None)\n",
    "            \n",
    "    pricedata = [a.find_all(\"div\", {\"class\": \"main_price\"}) for a in rawList]\n",
    "    prices=[]\n",
    "    for p in pricedata:\n",
    "        try:prices.append(re.sub('[^0-9]', '', p[0].string))\n",
    "        except:prices.append(None)\n",
    "            \n",
    "    kmyeardata = [a.find_all(\"li\", {\"class\": \"bold\"}) for a in rawList]\n",
    "    kms=[]\n",
    "    years=[]\n",
    "    for pair in kmyeardata:\n",
    "        try: v1=pair[0].string\n",
    "        except: v1=None\n",
    "        try: v2=re.sub('[^0-9]', '', pair[1].string)\n",
    "        except: v2=None\n",
    "        kms.append(v2)\n",
    "        years.append(v1)\n",
    "\n",
    "    complete_data=[]\n",
    "    for i in range(0,len(links)):\n",
    "        complete_data.append((links[i],\n",
    "        names[i],\n",
    "        prices[i],\n",
    "        kms[i],\n",
    "        years[i]))\n",
    "    return(complete_data)\n",
    "\n",
    "import csv\n",
    "def writeToCsv(file,data):\n",
    "    with open(file,'a') as f:\n",
    "        wr = csv.writer(f, dialect='excel')\n",
    "        wr.writerows(data)\n",
    "\n",
    "link='https://www.nettiauto.com/vaihtoautot?page=1'\n",
    "data=getDataFromLink(link)\n",
    "print(data)\n",
    "#writeToCsv(\"carPrices.csv\", data)"
   ]
  },
  {
   "cell_type": "code",
   "execution_count": null,
   "metadata": {},
   "outputs": [
    {
     "name": "stdout",
     "output_type": "stream",
     "text": [
      "Progress 0.0003125\n"
     ]
    },
    {
     "name": "stderr",
     "output_type": "stream",
     "text": [
      "C:\\Users\\mpalonie\\AppData\\Local\\Continuum\\anaconda3\\envs\\py36\\lib\\site-packages\\ipykernel_launcher.py:10: DeprecationWarning: AppURLopener style of invoking requests is deprecated. Use newer urlopen functions/methods\n",
      "  # Remove the CWD from sys.path while we load stuff.\n"
     ]
    },
    {
     "name": "stdout",
     "output_type": "stream",
     "text": [
      "Progress 0.000625\n",
      "Progress 0.0009375\n",
      "Progress 0.00125\n",
      "Progress 0.0015625\n",
      "Round failed  5\n",
      "Progress 0.001875\n",
      "Progress 0.0021875\n",
      "Progress 0.0025\n",
      "Progress 0.0028125\n",
      "Progress 0.003125\n",
      "Progress 0.0034375\n",
      "Progress 0.00375\n",
      "Progress 0.0040625\n",
      "Progress 0.004375\n",
      "Progress 0.0046875\n",
      "Progress 0.005\n",
      "Progress 0.0053125\n",
      "Progress 0.005625\n",
      "Progress 0.0059375\n",
      "Progress 0.00625\n",
      "Progress 0.0065625\n",
      "Progress 0.006875\n",
      "Progress 0.0071875\n",
      "Progress 0.0075\n",
      "Progress 0.0078125\n",
      "Progress 0.008125\n",
      "Round failed  26\n",
      "Progress 0.0084375\n",
      "Progress 0.00875\n",
      "Progress 0.0090625\n",
      "Progress 0.009375\n"
     ]
    }
   ],
   "source": [
    "import datetime\n",
    "\n",
    "#import progressbar\n",
    "\n",
    "time=str(datetime.datetime.now().date())\n",
    "filename=time + \" nettiauto.csv\"\n",
    "f=open(filename,'a')\n",
    "f.close()\n",
    "\n",
    "raw_link='https://www.nettiauto.com/vaihtoautot?page='\n",
    "last_page=3200\n",
    "\n",
    "#bar = progressbar.ProgressBar(maxval=last_page, \\\n",
    "#    widgets=[progressbar.Bar('=', '[', ']'), ' ', progressbar.Percentage()])\n",
    "#bar.start()\n",
    "failed=0\n",
    "for i in range(1,last_page):\n",
    "    try:\n",
    "        print(\"Progress \"+str(i/last_page))\n",
    "        link=raw_link+str(i)\n",
    "        data=getDataFromLink(link)\n",
    "        writeToCsv(filename, data)\n",
    "        #bar.update(i+1)\n",
    "    except:\n",
    "        print(\"Round failed \",i)\n",
    "        failed=failed+1\n",
    "print(\"Finished\")\n",
    "print(\"Failed \", failed)\n",
    "print(\"Succeeded \", last_page-failed)\n",
    "#bar.finish()"
   ]
  },
  {
   "cell_type": "code",
   "execution_count": null,
   "metadata": {},
   "outputs": [],
   "source": []
  }
 ],
 "metadata": {
  "kernelspec": {
   "display_name": "Python 3",
   "language": "python",
   "name": "python3"
  },
  "language_info": {
   "codemirror_mode": {
    "name": "ipython",
    "version": 3
   },
   "file_extension": ".py",
   "mimetype": "text/x-python",
   "name": "python",
   "nbconvert_exporter": "python",
   "pygments_lexer": "ipython3",
   "version": "3.6.5"
  }
 },
 "nbformat": 4,
 "nbformat_minor": 2
}

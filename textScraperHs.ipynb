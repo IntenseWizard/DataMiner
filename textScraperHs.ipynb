{
 "cells": [
  {
   "cell_type": "code",
   "execution_count": 55,
   "metadata": {},
   "outputs": [
    {
     "name": "stderr",
     "output_type": "stream",
     "text": [
      "/usr/lib/python3/dist-packages/ipykernel_launcher.py:23: DeprecationWarning: AppURLopener style of invoking requests is deprecated. Use newer urlopen functions/methods\n"
     ]
    },
    {
     "name": "stdout",
     "output_type": "stream",
     "text": [
      "['https://hs.fi/ulkomaat/art-2000005974523.html', '\\nGrönlannin mannerjäätikön sulamisvauhti nelinkertaistui vuosikymmenessä – Tutkijoiden mukaan ollaan käännekohdassa\\n']\n",
      "['https://hs.fi/politiikka/art-2000005974321.html', '\\n\\nRinteen tuuraajaksi nousi monikärkiohjus, joka saattaa tulevaisuudessa haastaa puheenjohtajan\\n']\n",
      "['https://hs.fi/ulkomaat/art-2000005974589.html', '\\nYhdysvaltain hallinnon sulku vaikeuttaa FBI:n toimintaa – liittovaltion poliisi ei pysty maksamaan tietolähteille\\n']\n",
      "['https://hs.fi/urheilu/art-2000005974584.html', '\\nKansainvälinen triathlonliitto kielsi marraskuussa sateenkaarilipun, mutta perui päätöksensä – ”Tämä ei ollut mikään ongelma aiemmin, joten en ymmärrä, miksi tällainen sääntö lisättiin”\\n']\n",
      "['https://hs.fi/urheilu/art-2000005974560.html', '\\nTappara-tykki Ojamäki nousi jo maalipörssin kärkeen\\n']\n",
      "['https://hs.fi/kaupunki/art-2000005974196.html', '\\nÄiti ja eno sitoivat ilmastointi\\xadteipillä 5-vuotiaan raajat ja suun, selittivät leikiksi – Oikeus tuomitsi pahoinpitelystä\\n']\n",
      "['https://hs.fi/ulkomaat/art-2000005974336.html', '\\nYhdysvaltain korkein oikeus: Trump voi kieltää trans\\xadsukupuolisia palvelemasta armeijassa\\n']\n",
      "['https://hs.fi/ulkomaat/art-2000005974021.html', '\\nAeroflotin kone teki hätälaskun Venäjällä, kun matkustaja vaati muuttamaan reittiä – video näyttää miehen poistamisen koneesta\\n']\n",
      "['https://hs.fi/kaupunki/art-2000005974395.html', '\\nHajonnut vesiputki sinkosi vettä ilmaan Helsingin Etu-Töölössä – Pakkassää on kolminkertaistanut vesijohtovuodot\\n']\n",
      "['https://hs.fi/urheilu/art-2000005974502.html', '\\nTottenhamilta putoaa tähtipelaajia sivuun liikaa: Dele Alli on loukkaantuneena maaliskuun alkuun asti – valtava takaisku lontoolaisseuran tavoitteille\\n']\n",
      "['https://hs.fi/urheilu/art-2000005974442.html', '\\nVeikkausliigan viime kauden parhaana maalivahtina palkittu Antonio Reguero on kuntoutumassa kauden avaukseen\\n']\n",
      "['https://hs.fi/urheilu/art-2000005974381.html', '\\nKipulääkkeen väitettiin aiheuttavan kolareita ammattilaispyöräilyssä ja nyt sen käyttöä testataan ensi kertaa – ”Lääkärit uskovat, että olemme hätätilanteessa”\\n']\n",
      "['https://hs.fi/urheilu/art-2000005974429.html', '\\nBerat Sadik sopimukseen Espanjan kakkostason seuran kanssa\\n']\n",
      "['https://hs.fi/kotimaa/art-2000005973565.html', '\\nKiihtelysvaaran kirkon polttaneelle miehelle kahden vuoden ja kahdeksan kuukauden vankeustuomio\\n']\n",
      "['https://hs.fi/kaupunki/espoo/art-2000005974237.html', '\\n\\nNäin käy, jos autoja ei harjata lumesta: Sellon liityntäparkki muuttui liukkaaksi kuin luistinrata\\n']\n",
      "['https://hs.fi/kulttuuri/art-2000005974345.html', '\\nPortugalin euroviisuvoittaja Salvador Sobral vierailee ensi kertaa Suomessa\\n']\n",
      "['https://hs.fi/kaupunki/helsinki/art-2000005974181.html', '\\nRaide-Jokerin kustannusten karkaaminen sai Helsingin ja Espoon kuntapoliitikot nieleskelemaan raivoa: ”Enemmän sääntö kuin poikkeus”\\n']\n",
      "['https://hs.fi/ulkomaat/art-2000005973986.html', '\\nYliäänipommikone putosi Kuolan niemimaalla, kolme kuoli\\n']\n",
      "['https://hs.fi/urheilu/art-2000005974242.html', '\\nSeitsemänneksi jaksanut Petteri Koivisto oli päämatkallaan paras suomalainen Lahden MM-kympillä – ”Tämä oli päivän maksimi”\\n']\n",
      "['https://hs.fi/urheilu/art-2000005974209.html', '\\nSkottimedia: Ranskalaisseura Nice aikoo tarjota 9 miljoonaa euroa entisestä HJK-hyökkääjä Morelosista skottiseura Rangersille – HJK:lle luvassa mojova tilipäivä\\n']\n",
      "['https://hs.fi/ulkomaat/art-2000005974096.html', '\\nJapanilaiset kioskiketjut poistavat pornolehdet valikoimistaan olympialaisten edellä\\n']\n",
      "['https://hs.fi/koti/art-2000005973995.html', '\\n\\nAsukas liukastui jäisellä pihalla, ja autoon tuli lommo – Korvaako vakuutus?\\n']\n",
      "['https://hs.fi/urheilu/art-2000005973776.html', '\\nValioliigajoukkueen ennätyshankinta kateissa: lentokone katosi tutkasta Englannin kanaalin yllä – ”Etsintä- ja pelastustyöt on keskeytetty auringon laskeuduttua”\\n']\n",
      "['https://hs.fi/urheilu/art-2000005974075.html', '\\nKreikkalainen videobloggaaja tunkeutumassa tennismaailman huipulle: ”Tykkään elokuvauksesta, filmaamisesta ja valokuvaamisesta”\\n']\n",
      "['https://hs.fi/talous/art-2000005973967.html', '\\nVolvo epäilee moottoritilaan valuvan polttoainetta – Suomessakin yli 4\\u2009000 autonomistajaa sai kutsun huoltoon\\n']\n",
      "['https://hs.fi/kaupunki/helsinki/art-2000005973730.html', '\\nEroa haluava helsinkiläispariskunta joutuu jatkamaan avioliitossa vastoin tahtoaan – Ero\\xadprosessi raukesi käräjäoikeuden virheen vuoksi\\n']\n",
      "['https://hs.fi/kaupunki/helsinki/art-2000005973960.html', '\\nHelsingin ainoasta allergiapäiväkodista tulee kokonaan yksityinen – Maksut nousevat\\n']\n",
      "['https://hs.fi/urheilu/art-2000005973978.html', '\\nAustralian avoimissa nähtiin suusta suuhun -elvytystä kesken ottelun – ”uhri” virkosi varsin pian\\n']\n",
      "['https://hs.fi/kulttuuri/art-2000005973897.html', '\\nRanskassa raiskausepäilyn vuoksi pidätetty räppäri Chris Brown vapautettiin ilman syytteitä\\n']\n",
      "['https://hs.fi/urheilu/art-2000005973879.html', '\\nToinen nuorten MM-pronssi toi Anita Korvalle luottoa omaan tekemiseen – ”Voin joskus vielä nousta todella korkealle”\\n']\n",
      "['https://hs.fi/politiikka/art-2000005973955.html', '\\nVihreiden Ville Niinistö lähtee ehdolle euro\\xadparlamentti\\xadvaalehin\\n']\n",
      "['https://hs.fi/kaupunki/art-2000005973567.html', '\\nJunaliikennettä vaivanneet ongelmat helpottavat – myöhästymiset kuitenkin jatkuvat\\n']\n",
      "['https://hs.fi/ulkomaat/art-2000005973624.html', '\\nSuomen Ankaran-suurlähetystössä epäillään törkeää laittoman maahantulon järjestämistä – ”Hyvin poikkeuksellista”, sanoo ulkoministeriön konsulipäällikkö\\n']\n",
      "['https://hs.fi/urheilu/art-2000005973821.html', '\\nCristiano Ronaldo hyväksyi jättisakot – poistui oikeustalolta hymyssä suin käsi kädessä kihlattunsa kanssa: ”Voin oikein hyvin”\\n']\n",
      "['https://hs.fi/talous/art-2000005973761.html', '\\nSuomalaisten suuryritysten johtajat uskovat suhdanteen parhaan vaiheen olevan ohitse\\n']\n",
      "['https://hs.fi/kulttuuri/art-2000005973808.html', '\\nJo 50 vuotta Suomea kiertäneet Matti ja Teppo lähtevät viimeiselle kiertueelle, joka huipentuu Hartwall-areenalle – mutta ei työ siihen lopu\\n']\n",
      "['https://hs.fi/ulkomaat/art-2000005973752.html', '\\nVenezuelalaisten sotilaiden ryhmä valtasi kansalliskaartin johtokeskuksen ja yllytti kansaa kaduille – kapina kukistettiin nopeasti\\n']\n",
      "['https://hs.fi/nyt/art-2000005973769.html', '\\n\\nEhdokkaat vuoden huonoimmaksi elokuvaksi on valittu – listan kärjessä seksiä harrastavia nukkeja sekä Holmes ja Watson\\n']\n",
      "['https://hs.fi/urheilu/art-2000005973738.html', '\\nRuotsin urheilugaalassa erikoinen tilanne: 82-vuotias jalkapalloikoni toisti viimevuotisen temppunsa – ohjelmajohtaja joutui puuttumaan peliin\\n']\n"
     ]
    }
   ],
   "source": [
    "from bs4 import BeautifulSoup\n",
    "import re, time\n",
    "\n",
    "import urllib.request\n",
    "\n",
    "class AppURLopener(urllib.request.FancyURLopener):\n",
    "    version = \"Mozilla/5.0\"\n",
    "\n",
    "'''def getTextFromLink(link):\n",
    "    opener = AppURLopener()\n",
    "    response = opener.open(link).read()\n",
    "    soup = BeautifulSoup(response, \"lxml\")    \n",
    "    #links = [a.find(\"a\") for a in dataHtml]\n",
    "    \n",
    "    blocks=soup.findAll(\"div\")\n",
    "    blocks=soup.text\n",
    "    print(blocks)'''\n",
    "    \n",
    "    \n",
    "    \n",
    "    \n",
    "def getDataFromLink(link):\n",
    "    opener = AppURLopener()\n",
    "    response = opener.open(link).read()\n",
    "    soup = BeautifulSoup(response, \"lxml\")\n",
    "    dataHtml = soup.findAll(\"div\")\n",
    "    \n",
    "    #links = [a.find(\"a\") for a in dataHtml]\n",
    "    #print(links)\n",
    "    #teasers=soup.find_all(\"h2\")\n",
    "    teasers=soup.findAll(\"article\", {\"class\": \"teaser full-width fast\"})\n",
    "    data=[]\n",
    "    for t in teasers:\n",
    "        link=\"https://hs.fi\"+str(t.find(\"a\")['href'])\n",
    "        teaser=str(t.find(\"h2\")).replace(\"<h2>\",\"\").replace(\"</h2>\",\"\")\n",
    "        teaser=re.sub(\"<span.*?span>\", \"\", teaser)\n",
    "        #print(link)\n",
    "        #print(teaser)\n",
    "        #getTextFromLink(link)\n",
    "        data.append([link,teaser])\n",
    "        #break\n",
    "    #data = dataHtml.find(\"li\", {\"class\": \"bold\"})\n",
    "    #print(teasers[0])\n",
    "    #print(soup)\n",
    "    #print(rawList)\n",
    "    return data\n",
    "\n",
    "import csv\n",
    "def writeToCsv(file,data):\n",
    "    with open(file,'a') as f:\n",
    "        wr = csv.writer(f, dialect='excel')\n",
    "        wr.writerows(data)\n",
    "\n",
    "link='https://hs.fi/'\n",
    "data=getDataFromLink(link)\n",
    "for d in data:\n",
    "    print(d)\n",
    "#writeToCsv(\"hsData.csv\", data)"
   ]
  },
  {
   "cell_type": "code",
   "execution_count": 58,
   "metadata": {},
   "outputs": [
    {
     "name": "stdout",
     "output_type": "stream",
     "text": [
      "Writing to file 2019-01-22 hs data.csv\n"
     ]
    },
    {
     "name": "stderr",
     "output_type": "stream",
     "text": [
      "/usr/lib/python3/dist-packages/ipykernel_launcher.py:23: DeprecationWarning: AppURLopener style of invoking requests is deprecated. Use newer urlopen functions/methods\n"
     ]
    },
    {
     "name": "stdout",
     "output_type": "stream",
     "text": [
      "Finished\n"
     ]
    }
   ],
   "source": [
    "import datetime\n",
    "\n",
    "#import progressbar\n",
    "dir_name=\"./data/\"\n",
    "time=str(datetime.datetime.now().date())\n",
    "filename=time + \" hs data.csv\"\n",
    "f=open(dir_name+filename,'a')\n",
    "f.close()\n",
    "\n",
    "raw_link='https://www.hs.fi'\n",
    "print(\"Writing to file \"+filename)\n",
    "#bar = progressbar.ProgressBar(maxval=last_page, \\\n",
    "#    widgets=[progressbar.Bar('=', '[', ']'), ' ', progressbar.Percentage()])\n",
    "#bar.start()\n",
    "failed=0\n",
    "\n",
    "link=raw_link\n",
    "data=getDataFromLink(link)\n",
    "writeToCsv(dir_name+filename, data)\n",
    "    \n",
    "print(\"Finished\")\n",
    "#bar.finish()"
   ]
  },
  {
   "cell_type": "code",
   "execution_count": null,
   "metadata": {},
   "outputs": [],
   "source": []
  },
  {
   "cell_type": "code",
   "execution_count": null,
   "metadata": {},
   "outputs": [],
   "source": []
  }
 ],
 "metadata": {
  "kernelspec": {
   "display_name": "Python 3",
   "language": "python",
   "name": "python3"
  },
  "language_info": {
   "codemirror_mode": {
    "name": "ipython",
    "version": 3
   },
   "file_extension": ".py",
   "mimetype": "text/x-python",
   "name": "python",
   "nbconvert_exporter": "python",
   "pygments_lexer": "ipython3",
   "version": "3.6.7"
  }
 },
 "nbformat": 4,
 "nbformat_minor": 2
}
